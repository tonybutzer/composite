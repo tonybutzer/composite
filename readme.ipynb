{
 "cells": [
  {
   "cell_type": "code",
   "execution_count": 1,
   "id": "dominant-scoop",
   "metadata": {},
   "outputs": [
    {
     "data": {
      "text/markdown": [
       "# composite\n",
       "Image Composites as an input to Land Cover Classification\n",
       "\n",
       "# hypothesis\n",
       "\n",
       "- The cloud will offer efficiencies and opportunities to accelerate science\n",
       "- lcmap will be ported and likely re-engineered in the cloud\n",
       "- Adhoc science R&D should start getting ready for these paradigm shifting events\n",
       "\n",
       "# hybrid approach posssible\n",
       "\n",
       "- compositing using ubiquitous cloud assets\n",
       "- send composites to Denali for heavy cpu - Land Cover - Characterization \n",
       "    - uses compute intense processes including promising AI techniques\n",
       "\n",
       "\n",
       "# approach\n",
       "\n",
       "- Play with Landsat-pds data\n",
       "- speculate on tiling and scaling approaches for composites, NLCD and \n",
       "- monitor cloud based assets in COGs as they onfold - track Albers scenes and Tiles\n",
       "- Play with Sentinel-2 COGS in AWS Public Data Registry\n",
       "- Be aware of HLS and the decisions made on projections and gridding\n",
       "    - UTM\n",
       "    - MGRS\n",
       "    \n",
       "\n",
       "https://en.wikipedia.org/wiki/Military_Grid_Reference_System#/media/File:Universal_Transverse_Mercator_zones.svg\n",
       "\n",
       "# steps\n",
       "0. - Everyone has access to a science sandbox - mini-pangeo - at 10.12.68.150 (neal's account - via vpn)\n",
       "    - also the pangeo.chs.usgs.gov - (can also get a pangeo bucket)\n",
       "    - onramp to cloud ec2\n",
       "    \n",
       "1. get familiar with cloud assets - searchable via STAC\n",
       "    - landsat-pds\n",
       "    - `sentinel`\n",
       "    - `landsat-sr-albers`\n",
       "    - potentially HLS - which is curated by NASA LPDAAC and uses CMR-CMR-STAC API \n",
       "        - POC - Cole Krehbiel - Aaron Friesz\n",
       "https://lpdaac.usgs.gov/resources/e-learning/\n",
       "https://lpdaac.usgs.gov/resources/e-learning/getting-started-cloud-native-hls-data-python/\n",
       "\n",
       "    \n",
       "2. a quick side by side demo of animations sentinel and landsat\n",
       " \n",
       "3. converting/slicing xarray data in a format for compositing - time slices for\n",
       "     - reds greens blues nirs swir1s swir2s pixel_qas\n",
       "     \n",
       "4. There may be synergies with LCMAPs cloud efforts\n",
       "    - Kelcy - Jon Morton - Jeff Briden -- (mangage the rates from limits ...)\n",
       "    \n",
       "5. Explore Scaling \n",
       "    - Docker (swarm)\n",
       "    - Kubernetes ... usual suspects ... (like mesos)\n",
       "    - AWS batch\n",
       "    - Denali - slurm - (preallocate - what you want for cpu ,memory)\n",
       "        - 9000 actual cores out of 18000(hyperthreading) total - (Shrub Back In Time) Cubist \n",
       "        - windows (3by 32 cores) 100 times fater 1/2 hour for 1.5 TBytes of data\n",
       "\n",
       "6. \n",
       "\n",
       "\n"
      ],
      "text/plain": [
       "<IPython.core.display.Markdown object>"
      ]
     },
     "metadata": {},
     "output_type": "display_data"
    }
   ],
   "source": [
    "from IPython.display import display, Markdown\n",
    "\n",
    "with open('README.md', 'r') as fh:\n",
    "    content = fh.read()\n",
    "\n",
    "display(Markdown(content))"
   ]
  },
  {
   "cell_type": "code",
   "execution_count": null,
   "id": "aggressive-western",
   "metadata": {},
   "outputs": [],
   "source": []
  }
 ],
 "metadata": {
  "kernelspec": {
   "display_name": "Python 3",
   "language": "python",
   "name": "python3"
  },
  "language_info": {
   "codemirror_mode": {
    "name": "ipython",
    "version": 3
   },
   "file_extension": ".py",
   "mimetype": "text/x-python",
   "name": "python",
   "nbconvert_exporter": "python",
   "pygments_lexer": "ipython3",
   "version": "3.7.9"
  }
 },
 "nbformat": 4,
 "nbformat_minor": 5
}
