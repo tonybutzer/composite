{
 "cells": [
  {
   "cell_type": "code",
   "execution_count": 2,
   "id": "mexican-bronze",
   "metadata": {},
   "outputs": [
    {
     "name": "stdout",
     "output_type": "stream",
     "text": [
      "sat-search                    0.3.0\r\n",
      "sat-stac                      0.4.1\r\n",
      "satpy                         0.25.1\r\n"
     ]
    }
   ],
   "source": [
    "! pip list | grep sat"
   ]
  },
  {
   "cell_type": "code",
   "execution_count": null,
   "id": "small-sequence",
   "metadata": {},
   "outputs": [],
   "source": []
  }
 ],
 "metadata": {
  "kernelspec": {
   "display_name": "Python 3",
   "language": "python",
   "name": "python3"
  },
  "language_info": {
   "codemirror_mode": {
    "name": "ipython",
    "version": 3
   },
   "file_extension": ".py",
   "mimetype": "text/x-python",
   "name": "python",
   "nbconvert_exporter": "python",
   "pygments_lexer": "ipython3",
   "version": "3.7.9"
  }
 },
 "nbformat": 4,
 "nbformat_minor": 5
}
