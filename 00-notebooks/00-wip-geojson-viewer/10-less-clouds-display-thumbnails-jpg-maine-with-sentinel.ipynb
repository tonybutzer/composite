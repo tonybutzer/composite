{
 "cells": [
  {
   "cell_type": "code",
   "execution_count": null,
   "id": "corporate-marina",
   "metadata": {},
   "outputs": [],
   "source": [
    "! ls AOI"
   ]
  },
  {
   "cell_type": "code",
   "execution_count": null,
   "id": "renewable-matrix",
   "metadata": {},
   "outputs": [],
   "source": [
    "! cat AOI/mini_square_maine.geojson"
   ]
  },
  {
   "cell_type": "code",
   "execution_count": null,
   "id": "usual-recorder",
   "metadata": {},
   "outputs": [],
   "source": [
    "from compositeLib.fm_map import Fmap\n",
    "def return_map_please(geojson_file):\n",
    "    f=Fmap(color='red')\n",
    "    mymap = f.sat_geojson(f'./AOI/{geojson_file}')\n",
    "    return(mymap)"
   ]
  },
  {
   "cell_type": "code",
   "execution_count": null,
   "id": "metric-nickel",
   "metadata": {},
   "outputs": [],
   "source": [
    "g='mini_square_maine.geojson'\n",
    "themap=return_map_please(g)\n",
    "themap"
   ]
  },
  {
   "cell_type": "code",
   "execution_count": null,
   "id": "aquatic-medline",
   "metadata": {},
   "outputs": [],
   "source": [
    "import geopandas"
   ]
  },
  {
   "cell_type": "code",
   "execution_count": null,
   "id": "oriental-justice",
   "metadata": {},
   "outputs": [],
   "source": [
    "my_aoi = './AOI/mini_square_maine.geojson'\n",
    "gdf = geopandas.read_file(my_aoi)"
   ]
  },
  {
   "cell_type": "code",
   "execution_count": null,
   "id": "pretty-fitting",
   "metadata": {},
   "outputs": [],
   "source": [
    "gdf"
   ]
  },
  {
   "cell_type": "code",
   "execution_count": null,
   "id": "molecular-school",
   "metadata": {},
   "outputs": [],
   "source": [
    "gdf['geometry']"
   ]
  },
  {
   "cell_type": "code",
   "execution_count": null,
   "id": "solved-garlic",
   "metadata": {},
   "outputs": [],
   "source": [
    "type(gdf['geometry'])"
   ]
  },
  {
   "cell_type": "code",
   "execution_count": null,
   "id": "excessive-rapid",
   "metadata": {},
   "outputs": [],
   "source": [
    "dir(gdf['geometry'])"
   ]
  },
  {
   "cell_type": "code",
   "execution_count": null,
   "id": "consistent-direction",
   "metadata": {},
   "outputs": [],
   "source": [
    "bbox = gdf.iloc[0]['geometry'].bounds"
   ]
  },
  {
   "cell_type": "code",
   "execution_count": null,
   "id": "roman-asian",
   "metadata": {},
   "outputs": [],
   "source": [
    "%matplotlib inline\n",
    "import intake\n",
    "import satsearch"
   ]
  },
  {
   "cell_type": "code",
   "execution_count": null,
   "id": "above-twelve",
   "metadata": {},
   "outputs": [],
   "source": [
    "dates = '2020-05-01/2020-10-15'\n",
    "\n",
    "URL='https://earth-search.aws.element84.com/v0'\n",
    "results = satsearch.Search.search(url=URL,\n",
    "                                  collections=['sentinel-s2-l2a-cogs'], # note collection='sentinel-s2-l2a-cogs' doesn't work\n",
    "                                  datetime=dates,\n",
    "                                  bbox=bbox,    \n",
    "                                  sort=['<datetime'],\n",
    "                                 **{\"eo:cloud_cover\": \"0/30\"})"
   ]
  },
  {
   "cell_type": "code",
   "execution_count": null,
   "id": "grave-clearance",
   "metadata": {},
   "outputs": [],
   "source": [
    "print('%s items' % results.found())\n",
    "items = results.items()\n",
    "# Save this locally for use later\n",
    "items.save('my-s2-l2a-cogs.json')"
   ]
  },
  {
   "cell_type": "code",
   "execution_count": null,
   "id": "liberal-allowance",
   "metadata": {},
   "outputs": [],
   "source": [
    "! cat my-s2-l2a-cogs.json | python -m json.tool | grep cloud_cover"
   ]
  },
  {
   "cell_type": "code",
   "execution_count": null,
   "id": "configured-desperate",
   "metadata": {},
   "outputs": [],
   "source": [
    "! cat my-s2-l2a-cogs.json | python -m json.tool"
   ]
  },
  {
   "cell_type": "code",
   "execution_count": null,
   "id": "proved-brook",
   "metadata": {},
   "outputs": [],
   "source": [
    "items"
   ]
  },
  {
   "cell_type": "code",
   "execution_count": null,
   "id": "grave-porcelain",
   "metadata": {},
   "outputs": [],
   "source": [
    "dir(items)"
   ]
  },
  {
   "cell_type": "code",
   "execution_count": null,
   "id": "tight-startup",
   "metadata": {},
   "outputs": [],
   "source": [
    "prune_items=[]\n",
    "for item in items:\n",
    "    print(item)\n",
    "    cloud_cover = item.properties['eo:cloud_cover']\n",
    "    print(item.properties['eo:cloud_cover'])\n",
    "    if (cloud_cover < 30):\n",
    "        prune_items.append(item)"
   ]
  },
  {
   "cell_type": "code",
   "execution_count": null,
   "id": "single-occasion",
   "metadata": {},
   "outputs": [],
   "source": [
    "dir(prune_items)"
   ]
  },
  {
   "cell_type": "code",
   "execution_count": null,
   "id": "behind-springfield",
   "metadata": {},
   "outputs": [],
   "source": [
    "item.properties"
   ]
  },
  {
   "cell_type": "code",
   "execution_count": null,
   "id": "offensive-journey",
   "metadata": {},
   "outputs": [],
   "source": [
    "catalog = intake.open_stac_item_collection(items)"
   ]
  },
  {
   "cell_type": "code",
   "execution_count": null,
   "id": "tired-parent",
   "metadata": {},
   "outputs": [],
   "source": [
    "catalog"
   ]
  },
  {
   "cell_type": "code",
   "execution_count": null,
   "id": "critical-kelly",
   "metadata": {},
   "outputs": [],
   "source": [
    "citems = list(catalog)"
   ]
  },
  {
   "cell_type": "code",
   "execution_count": null,
   "id": "constitutional-dream",
   "metadata": {},
   "outputs": [],
   "source": [
    "citems"
   ]
  },
  {
   "cell_type": "code",
   "execution_count": null,
   "id": "agricultural-tucson",
   "metadata": {},
   "outputs": [],
   "source": [
    "citem = citems[0]"
   ]
  },
  {
   "cell_type": "code",
   "execution_count": null,
   "id": "virtual-notebook",
   "metadata": {},
   "outputs": [],
   "source": [
    "citem"
   ]
  },
  {
   "cell_type": "code",
   "execution_count": null,
   "id": "editorial-reason",
   "metadata": {},
   "outputs": [],
   "source": [
    "dir(citem)"
   ]
  },
  {
   "cell_type": "code",
   "execution_count": null,
   "id": "primary-gilbert",
   "metadata": {},
   "outputs": [],
   "source": [
    "sentinel_item = catalog[citem]"
   ]
  },
  {
   "cell_type": "code",
   "execution_count": null,
   "id": "prepared-wichita",
   "metadata": {},
   "outputs": [],
   "source": [
    "sentinel_item"
   ]
  },
  {
   "cell_type": "code",
   "execution_count": null,
   "id": "better-arthur",
   "metadata": {},
   "outputs": [],
   "source": [
    "sentinel_item['metadata']"
   ]
  },
  {
   "cell_type": "code",
   "execution_count": null,
   "id": "deluxe-colony",
   "metadata": {},
   "outputs": [],
   "source": [
    "list(sentinel_item)"
   ]
  },
  {
   "cell_type": "code",
   "execution_count": null,
   "id": "breeding-emperor",
   "metadata": {},
   "outputs": [],
   "source": [
    "thumb_path = sentinel_item['thumbnail'].urlpath\n",
    "print(thumb_path)\n",
    "from IPython.display import Image\n",
    "Image(thumb_path)"
   ]
  },
  {
   "cell_type": "code",
   "execution_count": null,
   "id": "aggressive-status",
   "metadata": {},
   "outputs": [],
   "source": [
    "def display_thumb(sentinel_item):\n",
    "    thumb_path = sentinel_item['thumbnail'].urlpath\n",
    "    print(thumb_path)\n",
    "    display(Image(thumb_path))"
   ]
  },
  {
   "cell_type": "code",
   "execution_count": null,
   "id": "terminal-coral",
   "metadata": {},
   "outputs": [],
   "source": [
    "for citem in citems:\n",
    "    sentinel_item = catalog[citem]\n",
    "    display_thumb(sentinel_item)"
   ]
  },
  {
   "cell_type": "code",
   "execution_count": null,
   "id": "military-typing",
   "metadata": {},
   "outputs": [],
   "source": []
  }
 ],
 "metadata": {
  "kernelspec": {
   "display_name": "Python 3",
   "language": "python",
   "name": "python3"
  },
  "language_info": {
   "codemirror_mode": {
    "name": "ipython",
    "version": 3
   },
   "file_extension": ".py",
   "mimetype": "text/x-python",
   "name": "python",
   "nbconvert_exporter": "python",
   "pygments_lexer": "ipython3",
   "version": "3.7.9"
  }
 },
 "nbformat": 4,
 "nbformat_minor": 5
}
