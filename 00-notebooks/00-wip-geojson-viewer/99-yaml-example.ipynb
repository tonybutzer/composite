{
 "cells": [
  {
   "cell_type": "code",
   "execution_count": 1,
   "id": "extra-petite",
   "metadata": {},
   "outputs": [],
   "source": [
    "week10 = '''\n",
    "--- \n",
    "Title: \"Cloud Based Sentinel COGs\"\n",
    "Today: 2-16-2021\n",
    "Topics: \n",
    "  AOI: Maine\n",
    "  AWS_Document: \"https://registry.opendata.aws/sentinel-2-l2a-cogs/\"\n",
    "  City: Augusta\n",
    "  Data_Tier: L2A\n",
    "  Projection: UTM\n",
    "  Purpose: \"Class Example\"\n",
    "  Sandbox: pangeo.chs.usgs.gov\n",
    "  Science_Application: Compositing\n",
    "  Sensor: Sentinel\n",
    "  Status: \"Exploration early R&D\"\n",
    "  Subtopics: \n",
    "    - Browse\n",
    "    - Tiles\n",
    "    - Clouds\n",
    "    - geojson\n",
    "    - google_maps\n",
    "  Claudia_Topics:\n",
    "    - vectors\n",
    "    - map_projections\n",
    "  Logan_Topics:\n",
    "    - HLS_1.5\n",
    "    - cmr_lpdaac\n",
    "    - GDAL_hell\n",
    "    - pangeo_startup_aws_autoscaling_k8s_pods_docker\n",
    "  Homework: \"Register to use Pangeo -- Start Using Git or gitLab\"\n",
    "  Git_Repo: https://github.com/tonybutzer/composite\n",
    "  Simple_Notebook: 99-yaml-example\n",
    "'''"
   ]
  },
  {
   "cell_type": "code",
   "execution_count": 2,
   "id": "helpful-commonwealth",
   "metadata": {},
   "outputs": [],
   "source": [
    "with open(\"class_week10.yml\", \"w\") as w:\n",
    "    w.write(week10)"
   ]
  },
  {
   "cell_type": "code",
   "execution_count": 3,
   "id": "functioning-admission",
   "metadata": {},
   "outputs": [
    {
     "name": "stdout",
     "output_type": "stream",
     "text": [
      "-rw-r--r-- 1 jovyan 40006 753 Feb 15 15:17 class_week10.yml\r\n"
     ]
    }
   ],
   "source": [
    "!ls -l *.yml"
   ]
  },
  {
   "cell_type": "code",
   "execution_count": 4,
   "id": "upper-alaska",
   "metadata": {},
   "outputs": [
    {
     "name": "stdout",
     "output_type": "stream",
     "text": [
      "\r\n",
      "--- \r\n",
      "Title: \"Cloud Based Sentinel COGs\"\r\n",
      "Today: 2-16-2021\r\n",
      "Topics: \r\n",
      "  AOI: Maine\r\n",
      "  AWS_Document: \"https://registry.opendata.aws/sentinel-2-l2a-cogs/\"\r\n",
      "  City: Augusta\r\n",
      "  Data_Tier: L2A\r\n",
      "  Projection: UTM\r\n",
      "  Purpose: \"Class Example\"\r\n",
      "  Sandbox: pangeo.chs.usgs.gov\r\n",
      "  Science_Application: Compositing\r\n",
      "  Sensor: Sentinel\r\n",
      "  Status: \"Exploration early R&D\"\r\n",
      "  Subtopics: \r\n",
      "    - Browse\r\n",
      "    - Tiles\r\n",
      "    - Clouds\r\n",
      "    - geojson\r\n",
      "    - google_maps\r\n",
      "  Claudia_Topics:\r\n",
      "    - vectors\r\n",
      "    - map_projections\r\n",
      "  Logan_Topics:\r\n",
      "    - HLS_1.5\r\n",
      "    - cmr_lpdaac\r\n",
      "    - GDAL_hell\r\n",
      "    - pangeo_startup_aws_autoscaling_k8s_pods_docker\r\n",
      "  Homework: \"Register to use Pangeo -- Start Using Git or gitLab\"\r\n",
      "  Git_Repo: https://github.com/tonybutzer/composite\r\n",
      "  Simple_Notebook: 99-yaml-example\r\n"
     ]
    }
   ],
   "source": [
    "! cat *.yml"
   ]
  },
  {
   "cell_type": "code",
   "execution_count": 5,
   "id": "selective-turtle",
   "metadata": {},
   "outputs": [],
   "source": [
    "import yaml\n",
    "def _read_yml(yml_file):\n",
    "    print(yml_file)\n",
    "    with open(yml_file) as file:\n",
    "        yml_stuff = yaml.full_load(file)\n",
    "    return (yml_stuff)"
   ]
  },
  {
   "cell_type": "code",
   "execution_count": 6,
   "id": "opponent-relations",
   "metadata": {},
   "outputs": [
    {
     "name": "stdout",
     "output_type": "stream",
     "text": [
      "class_week10.yml\n"
     ]
    }
   ],
   "source": [
    "yml_file = 'class_week10.yml'\n",
    "ymlo = _read_yml(yml_file)"
   ]
  },
  {
   "cell_type": "code",
   "execution_count": 7,
   "id": "downtown-myanmar",
   "metadata": {},
   "outputs": [
    {
     "data": {
      "text/plain": [
       "{'Title': 'Cloud Based Sentinel COGs',\n",
       " 'Today': '2-16-2021',\n",
       " 'Topics': {'AOI': 'Maine',\n",
       "  'AWS_Document': 'https://registry.opendata.aws/sentinel-2-l2a-cogs/',\n",
       "  'City': 'Augusta',\n",
       "  'Data_Tier': 'L2A',\n",
       "  'Projection': 'UTM',\n",
       "  'Purpose': 'Class Example',\n",
       "  'Sandbox': 'pangeo.chs.usgs.gov',\n",
       "  'Science_Application': 'Compositing',\n",
       "  'Sensor': 'Sentinel',\n",
       "  'Status': 'Exploration early R&D',\n",
       "  'Subtopics': ['Browse', 'Tiles', 'Clouds', 'geojson', 'google_maps'],\n",
       "  'Claudia_Topics': ['vectors', 'map_projections'],\n",
       "  'Logan_Topics': ['HLS_1.5',\n",
       "   'cmr_lpdaac',\n",
       "   'GDAL_hell',\n",
       "   'pangeo_startup_aws_autoscaling_k8s_pods_docker'],\n",
       "  'Homework': 'Register to use Pangeo -- Start Using Git or gitLab',\n",
       "  'Git_Repo': 'https://github.com/tonybutzer/composite',\n",
       "  'Simple_Notebook': '99-yaml-example'}}"
      ]
     },
     "execution_count": 7,
     "metadata": {},
     "output_type": "execute_result"
    }
   ],
   "source": [
    "ymlo"
   ]
  },
  {
   "cell_type": "code",
   "execution_count": null,
   "id": "piano-vocabulary",
   "metadata": {},
   "outputs": [],
   "source": []
  }
 ],
 "metadata": {
  "kernelspec": {
   "display_name": "Python 3",
   "language": "python",
   "name": "python3"
  },
  "language_info": {
   "codemirror_mode": {
    "name": "ipython",
    "version": 3
   },
   "file_extension": ".py",
   "mimetype": "text/x-python",
   "name": "python",
   "nbconvert_exporter": "python",
   "pygments_lexer": "ipython3",
   "version": "3.7.9"
  }
 },
 "nbformat": 4,
 "nbformat_minor": 5
}
