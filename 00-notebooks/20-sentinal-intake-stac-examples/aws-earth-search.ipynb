{
 "cells": [
  {
   "cell_type": "markdown",
   "metadata": {},
   "source": [
    "Intake-STAC + sat-search\n",
    "================\n",
    "\n",
    "Commonly, we'll use an API to search a large STAC catalog to narrow down the data we want to work with. Here we'll demonstrate using the [sat-search](https://github.com/sat-utils/sat-search) library that uses https://www.element84.com/earth-search/."
   ]
  },
  {
   "cell_type": "code",
   "execution_count": 18,
   "metadata": {},
   "outputs": [
    {
     "data": {
      "text/plain": [
       "['hurricane-harvey']"
      ]
     },
     "execution_count": 18,
     "metadata": {},
     "output_type": "execute_result"
    }
   ],
   "source": [
    "url = 'https://raw.githubusercontent.com/cholmes/sample-stac/master/stac/catalog.json'\n",
    "catalog = intake.open_stac_catalog(url)\n",
    "list(catalog)"
   ]
  },
  {
   "cell_type": "code",
   "execution_count": 21,
   "metadata": {},
   "outputs": [
    {
     "data": {
      "application/json": "hurricane-harvey:\n  args:\n    stac_obj: https://raw.githubusercontent.com/cholmes/sample-stac/master/stac/hurricane-harvey/catalog.json\n  description: 'Planet Disaster Data makes imagery available directly to the public,\n    volunteers, humanitarian organizations, and other coordinating bodies in support\n    of the International Charter for Space and Major Disasters. This catalog of data\n    is released for Hurricane Harvey, providing a 30 day window pre- and post-disaster.\n    Imagery is provided under Creative Commons licenses, free of charge, with either\n    CC-BY-SA or CC-BY-NC. All new Planet scenes are made available each day, immediately\n    after production. '\n  driver: intake_stac.catalog.StacCatalog\n  metadata:\n    catalog_dir: ''\n",
      "text/plain": [
       "hurricane-harvey:\n",
       "  args:\n",
       "    stac_obj: https://raw.githubusercontent.com/cholmes/sample-stac/master/stac/hurricane-harvey/catalog.json\n",
       "  description: 'Planet Disaster Data makes imagery available directly to the public,\n",
       "    volunteers, humanitarian organizations, and other coordinating bodies in support\n",
       "    of the International Charter for Space and Major Disasters. This catalog of data\n",
       "    is released for Hurricane Harvey, providing a 30 day window pre- and post-disaster.\n",
       "    Imagery is provided under Creative Commons licenses, free of charge, with either\n",
       "    CC-BY-SA or CC-BY-NC. All new Planet scenes are made available each day, immediately\n",
       "    after production. '\n",
       "  driver: intake_stac.catalog.StacCatalog\n",
       "  metadata:\n",
       "    catalog_dir: ''\n"
      ]
     },
     "metadata": {
      "application/json": {
       "root": "hurricane-harvey"
      }
     },
     "output_type": "display_data"
    }
   ],
   "source": [
    "catalog_url = 'https://raw.githubusercontent.com/cholmes/sample-stac/master/stac/catalog.json'\n",
    "cat = open_stac_catalog(catalog_url)\n",
    "list(cat)\n",
    "cat['hurricane-harvey']"
   ]
  },
  {
   "cell_type": "code",
   "execution_count": 27,
   "metadata": {},
   "outputs": [
    {
     "data": {
      "text/plain": [
       "['hurricane-harvey-0831']"
      ]
     },
     "execution_count": 27,
     "metadata": {},
     "output_type": "execute_result"
    }
   ],
   "source": [
    "url='https://raw.githubusercontent.com/cholmes/sample-stac/master/stac/hurricane-harvey/catalog.json'\n",
    "cat = open_stac_catalog(url)\n",
    "list(cat)\n"
   ]
  },
  {
   "cell_type": "code",
   "execution_count": 35,
   "metadata": {},
   "outputs": [
    {
     "data": {
      "application/json": "hurricane-harvey-0831:\n  args:\n    stac_obj: https://raw.githubusercontent.com/cholmes/sample-stac/master/stac/hurricane-harvey/0831/catalog.json\n  description: Planet Scenes and Composites for Hurricane Harvey on Aug 31, 2017\n  driver: intake_stac.catalog.StacCatalog\n  metadata:\n    catalog_dir: ''\n",
      "text/plain": [
       "hurricane-harvey-0831:\n",
       "  args:\n",
       "    stac_obj: https://raw.githubusercontent.com/cholmes/sample-stac/master/stac/hurricane-harvey/0831/catalog.json\n",
       "  description: Planet Scenes and Composites for Hurricane Harvey on Aug 31, 2017\n",
       "  driver: intake_stac.catalog.StacCatalog\n",
       "  metadata:\n",
       "    catalog_dir: ''\n"
      ]
     },
     "metadata": {
      "application/json": {
       "root": "hurricane-harvey-0831"
      }
     },
     "output_type": "display_data"
    }
   ],
   "source": [
    "a=cat['hurricane-harvey-0831']\n",
    "\n",
    "a"
   ]
  },
  {
   "cell_type": "code",
   "execution_count": 36,
   "metadata": {},
   "outputs": [
    {
     "data": {
      "text/plain": [
       "intake_stac.catalog.StacCatalog"
      ]
     },
     "execution_count": 36,
     "metadata": {},
     "output_type": "execute_result"
    }
   ],
   "source": [
    "type(a)"
   ]
  },
  {
   "cell_type": "code",
   "execution_count": 37,
   "metadata": {},
   "outputs": [
    {
     "data": {
      "text/plain": [
       "['_DictSerialiseMixin__tok_cache',\n",
       " '_captured_init_args',\n",
       " '_captured_init_kwargs',\n",
       " '_entries',\n",
       " '_entry',\n",
       " '_schema',\n",
       " '_stac_obj',\n",
       " 'args',\n",
       " 'auth',\n",
       " 'cache',\n",
       " 'cat',\n",
       " 'catalog_object',\n",
       " 'datashape',\n",
       " 'description',\n",
       " 'dtype',\n",
       " 'getenv',\n",
       " 'getshell',\n",
       " 'metadata',\n",
       " 'name',\n",
       " 'npartitions',\n",
       " 'on_server',\n",
       " 'pmode',\n",
       " 'shape',\n",
       " 'storage_options',\n",
       " 'ttl',\n",
       " 'updated']"
      ]
     },
     "execution_count": 37,
     "metadata": {},
     "output_type": "execute_result"
    }
   ],
   "source": [
    "dir(a)"
   ]
  },
  {
   "cell_type": "code",
   "execution_count": 41,
   "metadata": {},
   "outputs": [
    {
     "data": {
      "application/json": "hurricane-harvey:\n  args:\n    stac_obj: https://raw.githubusercontent.com/cholmes/sample-stac/master/stac/hurricane-harvey/catalog.json\n  description: ''\n  driver: intake_stac.catalog.StacCatalog\n  metadata:\n    description: 'Planet Disaster Data makes imagery available directly to the public,\n      volunteers, humanitarian organizations, and other coordinating bodies in support\n      of the International Charter for Space and Major Disasters. This catalog of\n      data is released for Hurricane Harvey, providing a 30 day window pre- and post-disaster.\n      Imagery is provided under Creative Commons licenses, free of charge, with either\n      CC-BY-SA or CC-BY-NC. All new Planet scenes are made available each day, immediately\n      after production. '\n    id: hurricane-harvey\n    stac_version: 1.0.0-beta.1\n    title: Hurricane Harvey\n",
      "text/plain": [
       "hurricane-harvey:\n",
       "  args:\n",
       "    stac_obj: https://raw.githubusercontent.com/cholmes/sample-stac/master/stac/hurricane-harvey/catalog.json\n",
       "  description: ''\n",
       "  driver: intake_stac.catalog.StacCatalog\n",
       "  metadata:\n",
       "    description: 'Planet Disaster Data makes imagery available directly to the public,\n",
       "      volunteers, humanitarian organizations, and other coordinating bodies in support\n",
       "      of the International Charter for Space and Major Disasters. This catalog of\n",
       "      data is released for Hurricane Harvey, providing a 30 day window pre- and post-disaster.\n",
       "      Imagery is provided under Creative Commons licenses, free of charge, with either\n",
       "      CC-BY-SA or CC-BY-NC. All new Planet scenes are made available each day, immediately\n",
       "      after production. '\n",
       "    id: hurricane-harvey\n",
       "    stac_version: 1.0.0-beta.1\n",
       "    title: Hurricane Harvey\n"
      ]
     },
     "metadata": {
      "application/json": {
       "root": "hurricane-harvey"
      }
     },
     "output_type": "display_data"
    }
   ],
   "source": [
    "a.cat"
   ]
  },
  {
   "cell_type": "code",
   "execution_count": 46,
   "metadata": {},
   "outputs": [
    {
     "data": {
      "application/json": "hurricane-harvey:\n  args:\n    stac_obj: https://raw.githubusercontent.com/cholmes/sample-stac/master/stac/hurricane-harvey/catalog.json\n  description: ''\n  driver: intake_stac.catalog.StacCatalog\n  metadata:\n    description: 'Planet Disaster Data makes imagery available directly to the public,\n      volunteers, humanitarian organizations, and other coordinating bodies in support\n      of the International Charter for Space and Major Disasters. This catalog of\n      data is released for Hurricane Harvey, providing a 30 day window pre- and post-disaster.\n      Imagery is provided under Creative Commons licenses, free of charge, with either\n      CC-BY-SA or CC-BY-NC. All new Planet scenes are made available each day, immediately\n      after production. '\n    id: hurricane-harvey\n    stac_version: 1.0.0-beta.1\n    title: Hurricane Harvey\n",
      "text/plain": [
       "hurricane-harvey:\n",
       "  args:\n",
       "    stac_obj: https://raw.githubusercontent.com/cholmes/sample-stac/master/stac/hurricane-harvey/catalog.json\n",
       "  description: ''\n",
       "  driver: intake_stac.catalog.StacCatalog\n",
       "  metadata:\n",
       "    description: 'Planet Disaster Data makes imagery available directly to the public,\n",
       "      volunteers, humanitarian organizations, and other coordinating bodies in support\n",
       "      of the International Charter for Space and Major Disasters. This catalog of\n",
       "      data is released for Hurricane Harvey, providing a 30 day window pre- and post-disaster.\n",
       "      Imagery is provided under Creative Commons licenses, free of charge, with either\n",
       "      CC-BY-SA or CC-BY-NC. All new Planet scenes are made available each day, immediately\n",
       "      after production. '\n",
       "    id: hurricane-harvey\n",
       "    stac_version: 1.0.0-beta.1\n",
       "    title: Hurricane Harvey\n"
      ]
     },
     "metadata": {
      "application/json": {
       "root": "hurricane-harvey"
      }
     },
     "output_type": "display_data"
    }
   ],
   "source": [
    "a.catalog_object"
   ]
  },
  {
   "cell_type": "code",
   "execution_count": 50,
   "metadata": {},
   "outputs": [
    {
     "name": "stdout",
     "output_type": "stream",
     "text": [
      "['20170831_172754_101c', '2017831_195552_SS02', '20170831_195425_SS02', '20170831_162740_ssc1d1', 'Houston-East-20170831-103f-100d-0f4f-RGB']\n"
     ]
    }
   ],
   "source": [
    "subcat = cat['hurricane-harvey-0831']\n",
    "\n",
    "items = list(subcat)\n",
    "\n",
    "print(items)"
   ]
  },
  {
   "cell_type": "code",
   "execution_count": 48,
   "metadata": {},
   "outputs": [
    {
     "data": {
      "text/plain": [
       "hurricane-harvey-0831"
      ]
     },
     "execution_count": 48,
     "metadata": {},
     "output_type": "execute_result"
    }
   ],
   "source": [
    "a._stac_obj"
   ]
  },
  {
   "cell_type": "code",
   "execution_count": 6,
   "metadata": {},
   "outputs": [
    {
     "name": "stdout",
     "output_type": "stream",
     "text": [
      "Requirement already satisfied: sat-search in /home/jupyter-butzer/.local/lib/python3.7/site-packages (0.2.1)\n",
      "Collecting sat-stac~=0.1.2 (from sat-search)\n",
      "Requirement already satisfied: requests>=2.19.1 in /opt/tljh/user/lib/python3.7/site-packages (from sat-stac~=0.1.2->sat-search) (2.22.0)\n",
      "Requirement already satisfied: python-dateutil~=2.7.5 in /home/jupyter-butzer/.local/lib/python3.7/site-packages (from sat-stac~=0.1.2->sat-search) (2.7.5)\n",
      "Requirement already satisfied: idna<2.9,>=2.5 in /opt/tljh/user/lib/python3.7/site-packages (from requests>=2.19.1->sat-stac~=0.1.2->sat-search) (2.8)\n",
      "Requirement already satisfied: chardet<3.1.0,>=3.0.2 in /opt/tljh/user/lib/python3.7/site-packages (from requests>=2.19.1->sat-stac~=0.1.2->sat-search) (3.0.4)\n",
      "Requirement already satisfied: certifi>=2017.4.17 in /opt/tljh/user/lib/python3.7/site-packages (from requests>=2.19.1->sat-stac~=0.1.2->sat-search) (2020.11.8)\n",
      "Requirement already satisfied: urllib3!=1.25.0,!=1.25.1,<1.26,>=1.21.1 in /opt/tljh/user/lib/python3.7/site-packages (from requests>=2.19.1->sat-stac~=0.1.2->sat-search) (1.25.11)\n",
      "Requirement already satisfied: six>=1.5 in /opt/tljh/user/lib/python3.7/site-packages (from python-dateutil~=2.7.5->sat-stac~=0.1.2->sat-search) (1.12.0)\n",
      "\u001b[31mERROR: intake-stac 0.3.0 has requirement sat-stac==0.4.*, but you'll have sat-stac 0.1.3 which is incompatible.\u001b[0m\n",
      "Installing collected packages: sat-stac\n",
      "  Found existing installation: sat-stac 0.4.1\n",
      "    Uninstalling sat-stac-0.4.1:\n",
      "      Successfully uninstalled sat-stac-0.4.1\n",
      "\u001b[33m  WARNING: The script sat-stac is installed in '/home/jupyter-butzer/.local/bin' which is not on PATH.\n",
      "  Consider adding this directory to PATH or, if you prefer to suppress this warning, use --no-warn-script-location.\u001b[0m\n",
      "Successfully installed sat-stac-0.1.3\n"
     ]
    }
   ],
   "source": [
    "! pip install --user sat-search"
   ]
  },
  {
   "cell_type": "code",
   "execution_count": 16,
   "metadata": {},
   "outputs": [
    {
     "ename": "KeyError",
     "evalue": "'Houston-East-20170831-103f-100d-0f4f-RGB'",
     "output_type": "error",
     "traceback": [
      "\u001b[0;31m---------------------------------------------------------------------------\u001b[0m",
      "\u001b[0;31mKeyError\u001b[0m                                  Traceback (most recent call last)",
      "\u001b[0;32m<ipython-input-16-a0c5ab0de8df>\u001b[0m in \u001b[0;36m<module>\u001b[0;34m\u001b[0m\n\u001b[1;32m      2\u001b[0m \u001b[0mcatalog_url\u001b[0m \u001b[0;34m=\u001b[0m \u001b[0;34m'https://raw.githubusercontent.com/cholmes/sample-stac/master/stac/catalog.json'\u001b[0m\u001b[0;34m\u001b[0m\u001b[0;34m\u001b[0m\u001b[0m\n\u001b[1;32m      3\u001b[0m \u001b[0mcat\u001b[0m \u001b[0;34m=\u001b[0m \u001b[0mopen_stac_catalog\u001b[0m\u001b[0;34m(\u001b[0m\u001b[0mcatalog_url\u001b[0m\u001b[0;34m)\u001b[0m\u001b[0;34m\u001b[0m\u001b[0;34m\u001b[0m\u001b[0m\n\u001b[0;32m----> 4\u001b[0;31m \u001b[0mcat\u001b[0m\u001b[0;34m[\u001b[0m\u001b[0;34m'Houston-East-20170831-103f-100d-0f4f-RGB'\u001b[0m\u001b[0;34m]\u001b[0m\u001b[0;34m.\u001b[0m\u001b[0mmetadata\u001b[0m\u001b[0;34m\u001b[0m\u001b[0;34m\u001b[0m\u001b[0m\n\u001b[0m\u001b[1;32m      5\u001b[0m \u001b[0mda\u001b[0m \u001b[0;34m=\u001b[0m \u001b[0mcat\u001b[0m\u001b[0;34m[\u001b[0m\u001b[0;34m'Houston-East-20170831-103f-100d-0f4f-RGB'\u001b[0m\u001b[0;34m]\u001b[0m\u001b[0;34m[\u001b[0m\u001b[0;34m'thumbnail'\u001b[0m\u001b[0;34m]\u001b[0m\u001b[0;34m.\u001b[0m\u001b[0mto_dask\u001b[0m\u001b[0;34m(\u001b[0m\u001b[0;34m)\u001b[0m\u001b[0;34m\u001b[0m\u001b[0;34m\u001b[0m\u001b[0m\n\u001b[1;32m      6\u001b[0m \u001b[0mda\u001b[0m\u001b[0;34m\u001b[0m\u001b[0;34m\u001b[0m\u001b[0m\n",
      "\u001b[0;32m~/.local/lib/python3.7/site-packages/intake/catalog/base.py\u001b[0m in \u001b[0;36m__getitem__\u001b[0;34m(self, key)\u001b[0m\n\u001b[1;32m    408\u001b[0m                 \u001b[0mout\u001b[0m \u001b[0;34m=\u001b[0m \u001b[0mself\u001b[0m\u001b[0;34m[\u001b[0m\u001b[0mpart\u001b[0m\u001b[0;34m]\u001b[0m\u001b[0;34m\u001b[0m\u001b[0;34m\u001b[0m\u001b[0m\n\u001b[1;32m    409\u001b[0m             \u001b[0;32mreturn\u001b[0m \u001b[0mout\u001b[0m\u001b[0;34m(\u001b[0m\u001b[0;34m)\u001b[0m\u001b[0;34m\u001b[0m\u001b[0;34m\u001b[0m\u001b[0m\n\u001b[0;32m--> 410\u001b[0;31m         \u001b[0;32mraise\u001b[0m \u001b[0mKeyError\u001b[0m\u001b[0;34m(\u001b[0m\u001b[0mkey\u001b[0m\u001b[0;34m)\u001b[0m\u001b[0;34m\u001b[0m\u001b[0;34m\u001b[0m\u001b[0m\n\u001b[0m\u001b[1;32m    411\u001b[0m \u001b[0;34m\u001b[0m\u001b[0m\n\u001b[1;32m    412\u001b[0m     \u001b[0;32mdef\u001b[0m \u001b[0mdiscover\u001b[0m\u001b[0;34m(\u001b[0m\u001b[0mself\u001b[0m\u001b[0;34m)\u001b[0m\u001b[0;34m:\u001b[0m\u001b[0;34m\u001b[0m\u001b[0;34m\u001b[0m\u001b[0m\n",
      "\u001b[0;31mKeyError\u001b[0m: 'Houston-East-20170831-103f-100d-0f4f-RGB'"
     ]
    }
   ],
   "source": [
    "from intake import open_stac_catalog\n",
    "catalog_url = 'https://raw.githubusercontent.com/cholmes/sample-stac/master/stac/catalog.json'\n",
    "cat = open_stac_catalog(catalog_url)\n",
    "cat['Houston-East-20170831-103f-100d-0f4f-RGB'].metadata\n",
    "da = cat['Houston-East-20170831-103f-100d-0f4f-RGB']['thumbnail'].to_dask()\n",
    "da"
   ]
  },
  {
   "cell_type": "code",
   "execution_count": 15,
   "metadata": {},
   "outputs": [
    {
     "ename": "ImportError",
     "evalue": "cannot import name 'Items' from 'satstac' (/home/jupyter-butzer/.local/lib/python3.7/site-packages/satstac/__init__.py)",
     "output_type": "error",
     "traceback": [
      "\u001b[0;31m---------------------------------------------------------------------------\u001b[0m",
      "\u001b[0;31mImportError\u001b[0m                               Traceback (most recent call last)",
      "\u001b[0;32m<ipython-input-15-01378dcd0adc>\u001b[0m in \u001b[0;36m<module>\u001b[0;34m\u001b[0m\n\u001b[1;32m      1\u001b[0m \u001b[0mget_ipython\u001b[0m\u001b[0;34m(\u001b[0m\u001b[0;34m)\u001b[0m\u001b[0;34m.\u001b[0m\u001b[0mrun_line_magic\u001b[0m\u001b[0;34m(\u001b[0m\u001b[0;34m'matplotlib'\u001b[0m\u001b[0;34m,\u001b[0m \u001b[0;34m'inline'\u001b[0m\u001b[0;34m)\u001b[0m\u001b[0;34m\u001b[0m\u001b[0;34m\u001b[0m\u001b[0m\n\u001b[1;32m      2\u001b[0m \u001b[0;32mimport\u001b[0m \u001b[0mintake\u001b[0m\u001b[0;34m\u001b[0m\u001b[0;34m\u001b[0m\u001b[0m\n\u001b[0;32m----> 3\u001b[0;31m \u001b[0;32mimport\u001b[0m \u001b[0msatsearch\u001b[0m\u001b[0;34m\u001b[0m\u001b[0;34m\u001b[0m\u001b[0m\n\u001b[0m",
      "\u001b[0;32m~/.local/lib/python3.7/site-packages/satsearch/__init__.py\u001b[0m in \u001b[0;36m<module>\u001b[0;34m\u001b[0m\n\u001b[0;32m----> 1\u001b[0;31m \u001b[0;32mfrom\u001b[0m \u001b[0msatsearch\u001b[0m\u001b[0;34m.\u001b[0m\u001b[0msearch\u001b[0m \u001b[0;32mimport\u001b[0m \u001b[0mSearch\u001b[0m\u001b[0;34m\u001b[0m\u001b[0;34m\u001b[0m\u001b[0m\n\u001b[0m\u001b[1;32m      2\u001b[0m \u001b[0;32mfrom\u001b[0m \u001b[0msatsearch\u001b[0m\u001b[0;34m.\u001b[0m\u001b[0mversion\u001b[0m \u001b[0;32mimport\u001b[0m \u001b[0m__version__\u001b[0m\u001b[0;34m\u001b[0m\u001b[0;34m\u001b[0m\u001b[0m\n\u001b[1;32m      3\u001b[0m \u001b[0;34m\u001b[0m\u001b[0m\n\u001b[1;32m      4\u001b[0m \u001b[0;32mimport\u001b[0m \u001b[0mlogging\u001b[0m\u001b[0;34m\u001b[0m\u001b[0;34m\u001b[0m\u001b[0m\n\u001b[1;32m      5\u001b[0m \u001b[0;34m\u001b[0m\u001b[0m\n",
      "\u001b[0;32m~/.local/lib/python3.7/site-packages/satsearch/search.py\u001b[0m in \u001b[0;36m<module>\u001b[0;34m\u001b[0m\n\u001b[1;32m      6\u001b[0m \u001b[0;32mimport\u001b[0m \u001b[0msatsearch\u001b[0m\u001b[0;34m.\u001b[0m\u001b[0mconfig\u001b[0m \u001b[0;32mas\u001b[0m \u001b[0mconfig\u001b[0m\u001b[0;34m\u001b[0m\u001b[0;34m\u001b[0m\u001b[0m\n\u001b[1;32m      7\u001b[0m \u001b[0;34m\u001b[0m\u001b[0m\n\u001b[0;32m----> 8\u001b[0;31m \u001b[0;32mfrom\u001b[0m \u001b[0msatstac\u001b[0m \u001b[0;32mimport\u001b[0m \u001b[0mCollection\u001b[0m\u001b[0;34m,\u001b[0m \u001b[0mItem\u001b[0m\u001b[0;34m,\u001b[0m \u001b[0mItems\u001b[0m\u001b[0;34m\u001b[0m\u001b[0;34m\u001b[0m\u001b[0m\n\u001b[0m\u001b[1;32m      9\u001b[0m \u001b[0;32mfrom\u001b[0m \u001b[0msatstac\u001b[0m\u001b[0;34m.\u001b[0m\u001b[0mutils\u001b[0m \u001b[0;32mimport\u001b[0m \u001b[0mdict_merge\u001b[0m\u001b[0;34m\u001b[0m\u001b[0;34m\u001b[0m\u001b[0m\n\u001b[1;32m     10\u001b[0m \u001b[0;32mfrom\u001b[0m \u001b[0murllib\u001b[0m\u001b[0;34m.\u001b[0m\u001b[0mparse\u001b[0m \u001b[0;32mimport\u001b[0m \u001b[0murljoin\u001b[0m\u001b[0;34m\u001b[0m\u001b[0;34m\u001b[0m\u001b[0m\n",
      "\u001b[0;31mImportError\u001b[0m: cannot import name 'Items' from 'satstac' (/home/jupyter-butzer/.local/lib/python3.7/site-packages/satstac/__init__.py)"
     ]
    }
   ],
   "source": [
    "%matplotlib inline\n",
    "import intake\n",
    "import satsearch"
   ]
  },
  {
   "cell_type": "markdown",
   "metadata": {},
   "source": [
    "# From Tutorial satsearch"
   ]
  },
  {
   "cell_type": "code",
   "execution_count": null,
   "metadata": {},
   "outputs": [],
   "source": [
    "search = satsearch.Search(bbox=[-110, 39.5, -105, 40.5],\n",
    "               datetime='2018-02-12T00:00:00Z/2018-03-18T12:31:12Z',\n",
    "               query={'eo:cloud_cover': {'lt': 10}},\n",
    "               collections=['sentinel-s2-l2a'])\n",
    "print('%s items' % search.found())"
   ]
  },
  {
   "cell_type": "code",
   "execution_count": null,
   "metadata": {},
   "outputs": [],
   "source": [
    "search = satsearch.Search(bbox=[-110, 39.5, -105, 40.5],\n",
    "               datetime='2018-02-12T00:00:00Z/2018-03-18T12:31:12Z',\n",
    "               query={'eo:cloud_cover': {'lt': 10}},\n",
    "               collections=['sentinel-s2-l2a-cogs'])\n",
    "print('%s items' % search.found())"
   ]
  },
  {
   "cell_type": "code",
   "execution_count": null,
   "metadata": {},
   "outputs": [],
   "source": [
    "bbox = [35.48, -3.24, 35.58, -3.14] # (min lon, min lat, max lon, max lat)\n",
    "\n",
    "results = satsearch.Search(bbox=bbox,\n",
    "               datetime='2020-07-01T00:00:00Z/2020-08-15T12:31:12Z',\n",
    "               query={'eo:cloud_cover': {'lt': 10}},\n",
    "               collections=['sentinel-s2-l2a-cogs'])\n",
    "print('%s items' % results.found())"
   ]
  },
  {
   "cell_type": "code",
   "execution_count": null,
   "metadata": {},
   "outputs": [],
   "source": [
    "# bbox = [35.48, -3.24, 35.58, -3.14] # (min lon, min lat, max lon, max lat)\n",
    "# dates = '2020-07-01/2020-08-15'\n",
    "\n",
    "# target_collection = 'sentinel-s2-l2a-cogs'\n",
    "# #target_collection = 'landsat-8-l1-c1'\n",
    "\n",
    "# #URL='https://earth-search.aws.element84.com/v0'\n",
    "# results = satsearch.Search(\n",
    "#                                   collections=[target_collection], # note collection='sentinel-s2-l2a-cogs' doesn't work\n",
    "#                                   datetime=dates,\n",
    "#                                   bbox=bbox,    \n",
    "#                                   sort=['<datetime'])"
   ]
  },
  {
   "cell_type": "code",
   "execution_count": null,
   "metadata": {},
   "outputs": [],
   "source": [
    "results.found()"
   ]
  },
  {
   "cell_type": "code",
   "execution_count": null,
   "metadata": {},
   "outputs": [],
   "source": [
    "# bbox = [35.48, -3.24, 35.58, -3.14] # (min lon, min lat, max lon, max lat)\n",
    "# dates = '2020-07-01/2020-08-15'\n",
    "\n",
    "# target_collection = 'sentinel-s2-l2a-cogs'\n",
    "# target_collection = 'landsat-8-l1-c1'\n",
    "\n",
    "# URL='https://earth-search.aws.element84.com/v0'\n",
    "# results = satsearch.Search.search(url=URL,\n",
    "#                                   collections=[target_collection], # note collection='sentinel-s2-l2a-cogs' doesn't work\n",
    "#                                   datetime=dates,\n",
    "#                                   bbox=bbox,    \n",
    "#                                   sort=['<datetime'])"
   ]
  },
  {
   "cell_type": "code",
   "execution_count": null,
   "metadata": {},
   "outputs": [],
   "source": [
    "results.items()\n",
    "\n",
    "items = results.items()\n",
    "print('%s items' % len(items))\n",
    "print('%s collections' % len(items._collections))\n",
    "print(items._collections)\n",
    "\n",
    "for item in items:\n",
    "    print(item)"
   ]
  },
  {
   "cell_type": "code",
   "execution_count": null,
   "metadata": {},
   "outputs": [],
   "source": [
    "print('%s items' % results.found())\n",
    "items = results.items()\n",
    "# Save this locally for use later\n",
    "items.save('my-s2-l2a-cogs.json')"
   ]
  },
  {
   "cell_type": "code",
   "execution_count": null,
   "metadata": {},
   "outputs": [],
   "source": [
    "results"
   ]
  },
  {
   "cell_type": "code",
   "execution_count": null,
   "metadata": {},
   "outputs": [],
   "source": [
    "print(items)"
   ]
  },
  {
   "cell_type": "code",
   "execution_count": null,
   "metadata": {},
   "outputs": [],
   "source": [
    "type(items)"
   ]
  },
  {
   "cell_type": "code",
   "execution_count": null,
   "metadata": {},
   "outputs": [],
   "source": [
    "help(intake.open_catalog)"
   ]
  },
  {
   "cell_type": "code",
   "execution_count": null,
   "metadata": {},
   "outputs": [],
   "source": [
    "#! pip install --user intake-stac"
   ]
  },
  {
   "cell_type": "code",
   "execution_count": null,
   "metadata": {},
   "outputs": [],
   "source": [
    "dir(intake)"
   ]
  },
  {
   "cell_type": "code",
   "execution_count": null,
   "metadata": {},
   "outputs": [],
   "source": [
    "help(intake.open_stac_item_collection())"
   ]
  },
  {
   "cell_type": "code",
   "execution_count": null,
   "metadata": {},
   "outputs": [],
   "source": [
    "catalog = intake.open_stac_item_collection(items)"
   ]
  },
  {
   "cell_type": "code",
   "execution_count": null,
   "metadata": {},
   "outputs": [],
   "source": [
    "list(catalog)"
   ]
  },
  {
   "cell_type": "code",
   "execution_count": null,
   "metadata": {},
   "outputs": [],
   "source": [
    "item = catalog['S2A_36MYB_20200814_0_L2A']"
   ]
  },
  {
   "cell_type": "code",
   "execution_count": null,
   "metadata": {},
   "outputs": [],
   "source": [
    "# Assets for STAC Item\n",
    "list(item)"
   ]
  },
  {
   "cell_type": "code",
   "execution_count": null,
   "metadata": {},
   "outputs": [],
   "source": [
    "from IPython.display import Image\n",
    "Image(item['thumbnail'].urlpath)"
   ]
  },
  {
   "cell_type": "code",
   "execution_count": null,
   "metadata": {},
   "outputs": [],
   "source": [
    "# full STAC JSON accessible as item._stac_obj._data\n",
    "item.metadata"
   ]
  },
  {
   "cell_type": "code",
   "execution_count": null,
   "metadata": {},
   "outputs": [],
   "source": [
    "da = item.B04(chunks=dict(band=1, y=2048, x=2048)).to_dask()\n",
    "da"
   ]
  },
  {
   "cell_type": "code",
   "execution_count": null,
   "metadata": {},
   "outputs": [],
   "source": [
    "# stack_bands() method should be identical to landsat\n",
    "bands = ['nir','red']\n",
    "stack = item.stack_bands(bands)\n",
    "type(stack)"
   ]
  },
  {
   "cell_type": "code",
   "execution_count": null,
   "metadata": {},
   "outputs": [],
   "source": [
    "# Bug? currently need to specify chunks:\n",
    "da = stack(chunks=dict(band=1, x=2048, y=2048)).to_dask()\n",
    "da"
   ]
  },
  {
   "cell_type": "code",
   "execution_count": null,
   "metadata": {},
   "outputs": [],
   "source": [
    "# Reorganize into xarray DataSet with common band names\n",
    "da['band'] = bands\n",
    "ds = da.to_dataset(dim='band')\n",
    "ds"
   ]
  },
  {
   "cell_type": "code",
   "execution_count": null,
   "metadata": {},
   "outputs": [],
   "source": [
    "# Extract and plot NDVI subset\n",
    "NDVI = (ds['nir'] - ds['red']) / (ds['nir'] + ds['red'])\n",
    "#subset = NDVI.sel(y=slice(9.63e6,9.64e6), x=slice(7.55e5,7.71e5))\n",
    "subset = NDVI.isel(y=slice(6000,7000), x=slice(4500,5500))\n",
    "subset.plot.imshow(cmap='BrBG', vmin=-1, vmax=1)"
   ]
  },
  {
   "cell_type": "code",
   "execution_count": null,
   "metadata": {},
   "outputs": [],
   "source": [
    "#! pip install --user intake"
   ]
  },
  {
   "cell_type": "code",
   "execution_count": 13,
   "metadata": {},
   "outputs": [
    {
     "name": "stdout",
     "output_type": "stream",
     "text": [
      "Requirement already satisfied: intake-stac==0.3.0 in /home/jupyter-butzer/.local/lib/python3.7/site-packages (0.3.0)\n",
      "Requirement already satisfied: intake>=0.5.1 in /home/jupyter-butzer/.local/lib/python3.7/site-packages (from intake-stac==0.3.0) (0.6.0)\n",
      "Requirement already satisfied: fsspec>=0.8.4 in /opt/tljh/user/lib/python3.7/site-packages (from intake-stac==0.3.0) (0.8.4)\n",
      "Collecting sat-stac==0.4.* (from intake-stac==0.3.0)\n",
      "Requirement already satisfied: intake-xarray>=0.4 in /home/jupyter-butzer/.local/lib/python3.7/site-packages (from intake-stac==0.3.0) (0.4.1)\n",
      "Requirement already satisfied: dask[bag]>=1.0 in /opt/tljh/user/lib/python3.7/site-packages (from intake>=0.5.1->intake-stac==0.3.0) (2.30.0)\n",
      "Requirement already satisfied: msgpack in /opt/tljh/user/lib/python3.7/site-packages (from intake>=0.5.1->intake-stac==0.3.0) (1.0.0)\n",
      "Requirement already satisfied: entrypoints in /opt/tljh/user/lib/python3.7/site-packages (from intake>=0.5.1->intake-stac==0.3.0) (0.3)\n",
      "Requirement already satisfied: appdirs in /home/jupyter-butzer/.local/lib/python3.7/site-packages (from intake>=0.5.1->intake-stac==0.3.0) (1.4.4)\n",
      "Requirement already satisfied: requests in /opt/tljh/user/lib/python3.7/site-packages (from intake>=0.5.1->intake-stac==0.3.0) (2.22.0)\n",
      "Requirement already satisfied: pyyaml in /opt/tljh/user/lib/python3.7/site-packages (from intake>=0.5.1->intake-stac==0.3.0) (5.3.1)\n",
      "Requirement already satisfied: jinja2 in /opt/tljh/user/lib/python3.7/site-packages (from intake>=0.5.1->intake-stac==0.3.0) (2.11.2)\n",
      "Requirement already satisfied: numpy in /opt/tljh/user/lib/python3.7/site-packages (from intake>=0.5.1->intake-stac==0.3.0) (1.19.4)\n",
      "Requirement already satisfied: python-dateutil~=2.7.5 in /home/jupyter-butzer/.local/lib/python3.7/site-packages (from sat-stac==0.4.*->intake-stac==0.3.0) (2.7.5)\n",
      "Requirement already satisfied: netcdf4 in /home/jupyter-butzer/.local/lib/python3.7/site-packages (from intake-xarray>=0.4->intake-stac==0.3.0) (1.5.5.1)\n",
      "Requirement already satisfied: xarray>=0.12.0 in /opt/tljh/user/lib/python3.7/site-packages (from intake-xarray>=0.4->intake-stac==0.3.0) (0.16.1)\n",
      "Requirement already satisfied: zarr in /home/jupyter-butzer/.local/lib/python3.7/site-packages (from intake-xarray>=0.4->intake-stac==0.3.0) (2.6.1)\n",
      "Requirement already satisfied: cloudpickle>=0.2.2; extra == \"bag\" in /opt/tljh/user/lib/python3.7/site-packages (from dask[bag]>=1.0->intake>=0.5.1->intake-stac==0.3.0) (1.6.0)\n",
      "Requirement already satisfied: toolz>=0.8.2; extra == \"bag\" in /opt/tljh/user/lib/python3.7/site-packages (from dask[bag]>=1.0->intake>=0.5.1->intake-stac==0.3.0) (0.11.1)\n",
      "Requirement already satisfied: partd>=0.3.10; extra == \"bag\" in /opt/tljh/user/lib/python3.7/site-packages (from dask[bag]>=1.0->intake>=0.5.1->intake-stac==0.3.0) (1.1.0)\n",
      "Requirement already satisfied: certifi>=2017.4.17 in /opt/tljh/user/lib/python3.7/site-packages (from requests->intake>=0.5.1->intake-stac==0.3.0) (2020.11.8)\n",
      "Requirement already satisfied: idna<2.9,>=2.5 in /opt/tljh/user/lib/python3.7/site-packages (from requests->intake>=0.5.1->intake-stac==0.3.0) (2.8)\n",
      "Requirement already satisfied: chardet<3.1.0,>=3.0.2 in /opt/tljh/user/lib/python3.7/site-packages (from requests->intake>=0.5.1->intake-stac==0.3.0) (3.0.4)\n",
      "Requirement already satisfied: urllib3!=1.25.0,!=1.25.1,<1.26,>=1.21.1 in /opt/tljh/user/lib/python3.7/site-packages (from requests->intake>=0.5.1->intake-stac==0.3.0) (1.25.11)\n",
      "Requirement already satisfied: MarkupSafe>=0.23 in /opt/tljh/user/lib/python3.7/site-packages (from jinja2->intake>=0.5.1->intake-stac==0.3.0) (1.1.1)\n",
      "Requirement already satisfied: six>=1.5 in /opt/tljh/user/lib/python3.7/site-packages (from python-dateutil~=2.7.5->sat-stac==0.4.*->intake-stac==0.3.0) (1.12.0)\n",
      "Requirement already satisfied: cftime in /home/jupyter-butzer/.local/lib/python3.7/site-packages (from netcdf4->intake-xarray>=0.4->intake-stac==0.3.0) (1.3.1)\n",
      "Requirement already satisfied: setuptools>=38.4 in /opt/tljh/user/lib/python3.7/site-packages (from xarray>=0.12.0->intake-xarray>=0.4->intake-stac==0.3.0) (41.0.1)\n",
      "Requirement already satisfied: pandas>=0.25 in /opt/tljh/user/lib/python3.7/site-packages (from xarray>=0.12.0->intake-xarray>=0.4->intake-stac==0.3.0) (1.1.4)\n",
      "Requirement already satisfied: numcodecs>=0.6.4 in /home/jupyter-butzer/.local/lib/python3.7/site-packages (from zarr->intake-xarray>=0.4->intake-stac==0.3.0) (0.7.3)\n",
      "Requirement already satisfied: fasteners in /home/jupyter-butzer/.local/lib/python3.7/site-packages (from zarr->intake-xarray>=0.4->intake-stac==0.3.0) (0.16)\n",
      "Requirement already satisfied: asciitree in /home/jupyter-butzer/.local/lib/python3.7/site-packages (from zarr->intake-xarray>=0.4->intake-stac==0.3.0) (0.3.3)\n",
      "Requirement already satisfied: locket in /opt/tljh/user/lib/python3.7/site-packages (from partd>=0.3.10; extra == \"bag\"->dask[bag]>=1.0->intake>=0.5.1->intake-stac==0.3.0) (0.2.0)\n",
      "Requirement already satisfied: pytz>=2017.2 in /opt/tljh/user/lib/python3.7/site-packages (from pandas>=0.25->xarray>=0.12.0->intake-xarray>=0.4->intake-stac==0.3.0) (2020.4)\n",
      "\u001b[31mERROR: sat-search 0.2.1 has requirement sat-stac~=0.1.2, but you'll have sat-stac 0.4.1 which is incompatible.\u001b[0m\n",
      "\u001b[31mERROR: litestaclib 1.0.1 has requirement sat-stac==0.1.3, but you'll have sat-stac 0.4.1 which is incompatible.\u001b[0m\n",
      "Installing collected packages: sat-stac\n",
      "  Found existing installation: sat-stac 0.1.3\n",
      "    Uninstalling sat-stac-0.1.3:\n",
      "      Successfully uninstalled sat-stac-0.1.3\n",
      "\u001b[33m  WARNING: The script sat-stac is installed in '/home/jupyter-butzer/.local/bin' which is not on PATH.\n",
      "  Consider adding this directory to PATH or, if you prefer to suppress this warning, use --no-warn-script-location.\u001b[0m\n",
      "Successfully installed sat-stac-0.4.1\n"
     ]
    }
   ],
   "source": [
    "!pip install --user intake-stac==0.3.0"
   ]
  },
  {
   "cell_type": "code",
   "execution_count": null,
   "metadata": {},
   "outputs": [],
   "source": []
  }
 ],
 "metadata": {
  "kernelspec": {
   "display_name": "Python 3",
   "language": "python",
   "name": "python3"
  },
  "language_info": {
   "codemirror_mode": {
    "name": "ipython",
    "version": 3
   },
   "file_extension": ".py",
   "mimetype": "text/x-python",
   "name": "python",
   "nbconvert_exporter": "python",
   "pygments_lexer": "ipython3",
   "version": "3.7.9"
  }
 },
 "nbformat": 4,
 "nbformat_minor": 4
}
