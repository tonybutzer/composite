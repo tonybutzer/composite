{
 "cells": [
  {
   "cell_type": "code",
   "execution_count": 1,
   "id": "divine-georgia",
   "metadata": {},
   "outputs": [
    {
     "name": "stdout",
     "output_type": "stream",
     "text": [
      "--2021-02-10 03:16:10--  https://raw.githubusercontent.com/intake/intake-stac/master/examples/aws-earth-search.ipynb\n",
      "Resolving raw.githubusercontent.com (raw.githubusercontent.com)... 151.101.52.133\n",
      "Connecting to raw.githubusercontent.com (raw.githubusercontent.com)|151.101.52.133|:443... connected.\n",
      "HTTP request sent, awaiting response... 200 OK\n",
      "Length: 4678 (4.6K) [text/plain]\n",
      "Saving to: ‘aws-earth-search.ipynb’\n",
      "\n",
      "aws-earth-search.ip 100%[===================>]   4.57K  --.-KB/s    in 0s      \n",
      "\n",
      "2021-02-10 03:16:10 (67.8 MB/s) - ‘aws-earth-search.ipynb’ saved [4678/4678]\n",
      "\n"
     ]
    }
   ],
   "source": [
    "! wget https://raw.githubusercontent.com/intake/intake-stac/master/examples/aws-earth-search.ipynb"
   ]
  },
  {
   "cell_type": "code",
   "execution_count": null,
   "id": "proud-respect",
   "metadata": {},
   "outputs": [],
   "source": []
  }
 ],
 "metadata": {
  "kernelspec": {
   "display_name": "Python 3",
   "language": "python",
   "name": "python3"
  },
  "language_info": {
   "codemirror_mode": {
    "name": "ipython",
    "version": 3
   },
   "file_extension": ".py",
   "mimetype": "text/x-python",
   "name": "python",
   "nbconvert_exporter": "python",
   "pygments_lexer": "ipython3",
   "version": "3.7.9"
  }
 },
 "nbformat": 4,
 "nbformat_minor": 5
}
