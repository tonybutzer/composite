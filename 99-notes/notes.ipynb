{
 "cells": [
  {
   "cell_type": "code",
   "execution_count": 1,
   "id": "weekly-pension",
   "metadata": {},
   "outputs": [
    {
     "data": {
      "text/markdown": [
       "## Todo\n",
       "1. `git clone on pangeo.chs`\n",
       "2. get a bucket on pangeo from the pangeo gods\n",
       "3. save scottyhq\n",
       "4. create a 20-sentinel directory and a 00-train\n",
       "5. create a 10-apps directory\n",
       "6. build an AOI geojson viewer\n",
       "7. build compositeLib directories\n",
       "8. relearn panel\n",
       "9. build a sentinel browse viewer panel\n",
       "10. klm into geopandas into grid map\n",
       "11. gather AOI stuff mexico wuabay maine little\n",
       "\n",
       "## References\n",
       "https://registry.opendata.aws/sentinel-2-l2a-cogs/\n",
       "\n",
       "https://geocento.com/satellite-imagery-gallery/sentinel-2/\n",
       "\n",
       "https://earth-search.aws.element84.com/v0\n",
       "https://github.com/sat-utils/sat-search\n",
       "\n",
       "https://dragon3.esa.int/web/sentinel/sentinel-data-access\n",
       "https://dragon3.esa.int/web/sentinel/technical-guides/sentinel-2-msi\n",
       "\n",
       "https://dragon3.esa.int/documents/247904/1955685/S2A_OPER_GIP_TILPAR_MPC__20151209T095117_V20150622T000000_21000101T000000_B00.kml\n",
       "\n",
       "https://medium.com/pangeo/introducing-intake-stac-2c988d8e1d30\n",
       "\n",
       "## Goals\n",
       "\n",
       "1. demonstrate cloud access to sentinel\n",
       "2. test open data cube cube-in-abox\n",
       "\t- indexing and postscriptDB still a challenge\n",
       "3. \n",
       "\n",
       "## Apps\n",
       "\n",
       "6. build an AOI geojson viewer\n",
       "9. build a sentinel browse viewer panel\n"
      ],
      "text/plain": [
       "<IPython.core.display.Markdown object>"
      ]
     },
     "metadata": {},
     "output_type": "display_data"
    }
   ],
   "source": [
    "from IPython.display import display, Markdown\n",
    "\n",
    "with open('sentinel-plan.md', 'r') as fh:\n",
    "    content = fh.read()\n",
    "\n",
    "display(Markdown(content))"
   ]
  },
  {
   "cell_type": "code",
   "execution_count": 2,
   "id": "cardiovascular-maker",
   "metadata": {},
   "outputs": [
    {
     "name": "stdout",
     "output_type": "stream",
     "text": [
      "notes.ipynb  sentinel-plan.md\r\n"
     ]
    }
   ],
   "source": [
    "! ls"
   ]
  },
  {
   "cell_type": "code",
   "execution_count": null,
   "id": "alike-gather",
   "metadata": {},
   "outputs": [],
   "source": []
  }
 ],
 "metadata": {
  "kernelspec": {
   "display_name": "Python 3",
   "language": "python",
   "name": "python3"
  },
  "language_info": {
   "codemirror_mode": {
    "name": "ipython",
    "version": 3
   },
   "file_extension": ".py",
   "mimetype": "text/x-python",
   "name": "python",
   "nbconvert_exporter": "python",
   "pygments_lexer": "ipython3",
   "version": "3.7.9"
  }
 },
 "nbformat": 4,
 "nbformat_minor": 5
}
